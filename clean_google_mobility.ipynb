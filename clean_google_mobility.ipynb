{
 "cells": [
  {
   "cell_type": "code",
   "execution_count": 1,
   "id": "99853bbc-d9d5-415e-80d9-117b01e0f509",
   "metadata": {},
   "outputs": [
    {
     "data": {
      "text/plain": [
       "'C:\\\\Users\\\\limacinnis'"
      ]
     },
     "execution_count": 1,
     "metadata": {},
     "output_type": "execute_result"
    }
   ],
   "source": [
    "import pandas as pd\n",
    "import numpy as np\n",
    "import os\n",
    "os.getcwd()"
   ]
  },
  {
   "cell_type": "code",
   "execution_count": 2,
   "id": "25069e15-e0c0-48a0-8b16-92d134348c81",
   "metadata": {},
   "outputs": [
    {
     "name": "stderr",
     "output_type": "stream",
     "text": [
      "C:\\Users\\limacinnis\\Anaconda3\\lib\\site-packages\\IPython\\core\\interactiveshell.py:3444: DtypeWarning: Columns (3,4,5) have mixed types.Specify dtype option on import or set low_memory=False.\n",
      "  exec(code_obj, self.user_global_ns, self.user_ns)\n"
     ]
    }
   ],
   "source": [
    "df=pd.read_csv('Global_Mobility_Report.csv')"
   ]
  },
  {
   "cell_type": "code",
   "execution_count": 3,
   "id": "86f04bf3-dff8-44d2-a651-00c98e95e82a",
   "metadata": {},
   "outputs": [],
   "source": [
    "df1=df[['country_region','date','sub_region_1',\t'sub_region_2',\t'metro_area',\t'iso_3166_2_code',\t'census_fips_code','retail_and_recreation_percent_change_from_baseline',\t'grocery_and_pharmacy_percent_change_from_baseline',\t'parks_percent_change_from_baseline',\t'transit_stations_percent_change_from_baseline',\t'workplaces_percent_change_from_baseline',\t'residential_percent_change_from_baseline']]"
   ]
  },
  {
   "cell_type": "code",
   "execution_count": 4,
   "id": "3341bf00-bbc9-41f0-8f84-7d220979808a",
   "metadata": {},
   "outputs": [],
   "source": [
    "retail=df1[['country_region',\t'date','sub_region_1','sub_region_2',\t'metro_area',\t'iso_3166_2_code',\t'census_fips_code','retail_and_recreation_percent_change_from_baseline']]\n",
    "grocery=df1[['country_region',\t'date','sub_region_1','sub_region_2',\t'metro_area',\t'iso_3166_2_code',\t'census_fips_code','grocery_and_pharmacy_percent_change_from_baseline']]\n",
    "parks=df1[['country_region',\t'date','sub_region_1','sub_region_2',\t'metro_area',\t'iso_3166_2_code',\t'census_fips_code','parks_percent_change_from_baseline']]\n",
    "transit=df1[['country_region',\t'date','sub_region_1','sub_region_2',\t'metro_area',\t'iso_3166_2_code',\t'census_fips_code','transit_stations_percent_change_from_baseline']]\n",
    "workpalces=df1[['country_region',\t'date','sub_region_1','sub_region_2',\t'metro_area',\t'iso_3166_2_code',\t'census_fips_code','workplaces_percent_change_from_baseline']]\n",
    "residental=df1[['country_region',\t'date','sub_region_1','sub_region_2',\t'metro_area',\t'iso_3166_2_code',\t'census_fips_code','residential_percent_change_from_baseline']]\n"
   ]
  },
  {
   "cell_type": "code",
   "execution_count": 5,
   "id": "00927d89-fa11-4a57-bc8d-bf0158ee381b",
   "metadata": {},
   "outputs": [],
   "source": [
    "retail_countries = retail['country_region'].unique().tolist()\n",
    "\n",
    "for i in retail_countries: \n",
    "    index = retail_countries.index(i)\n",
    "    if index == 0: \n",
    "        retail_org=retail.loc[retail['country_region']==i]\n",
    "        retail_org=retail_org.loc[retail_org['sub_region_1'].isnull()]\n",
    "        retail_org=retail_org.loc[retail_org['sub_region_2'].isnull()]\n",
    "        retail_org=retail_org.loc[retail_org['metro_area'].isnull()]\n",
    "        retail_org=retail_org.loc[retail_org['iso_3166_2_code'].isnull()]\n",
    "        retail_org=retail_org.loc[retail_org['census_fips_code'].isnull()]\n",
    "        retail_org=retail_org[['date','retail_and_recreation_percent_change_from_baseline']].set_index(\"date\") \n",
    "        retail_org.rename(columns={'retail_and_recreation_percent_change_from_baseline':i}, inplace = True)\n",
    "    else: \n",
    "        temp=retail.loc[retail['country_region']==i]\n",
    "        temp=temp.loc[temp['sub_region_1'].isnull()]\n",
    "        temp=temp.loc[temp['sub_region_2'].isnull()]\n",
    "        temp=temp.loc[temp['metro_area'].isnull()]\n",
    "        temp=temp.loc[temp['iso_3166_2_code'].isnull()]\n",
    "        temp=temp.loc[temp['census_fips_code'].isnull()]\n",
    "        temp=temp[['date','retail_and_recreation_percent_change_from_baseline']].set_index(\"date\") \n",
    "        temp.rename(columns={'retail_and_recreation_percent_change_from_baseline':i}, inplace = True)\n",
    " \n",
    "        #retail_org=retail_org.merge(retail_org,temp,left_index=True, right_index=True)   \n",
    "        #retail_org=pd.merge(retail_org,temp,left_index=True, right_index=True)\n",
    "        retail_org=retail_org.join(temp)\n",
    "          #  hd2=hd2.set_index(\"Age\")\n",
    "          #  hd=pd.merge(hd, hd2,left_index=True, right_index=True)"
   ]
  },
  {
   "cell_type": "code",
   "execution_count": 6,
   "id": "90858c23-6267-4499-972d-5cda9a4875a5",
   "metadata": {},
   "outputs": [],
   "source": [
    "def isolate_variables(df, df_string,dictionary):   \n",
    "    countries = df['country_region'].unique().tolist()\n",
    "    varaible=dictionary.get(df_string)\n",
    "    for i in countries: \n",
    "        index = countries.index(i)\n",
    "        if index == 0: \n",
    "            new_df=df.loc[df['country_region']==i]\n",
    "            new_df=new_df.loc[new_df['sub_region_1'].isnull()]\n",
    "            new_df=new_df.loc[new_df['sub_region_2'].isnull()]\n",
    "            new_df=new_df.loc[new_df['metro_area'].isnull()]\n",
    "            new_df=new_df.loc[new_df['iso_3166_2_code'].isnull()]\n",
    "            new_df=new_df.loc[new_df['census_fips_code'].isnull()]\n",
    "            new_df=new_df[['date',varaible]].set_index(\"date\") \n",
    "            new_df.rename(columns={varaible:i}, inplace = True)\n",
    "        else: \n",
    "            temp=df.loc[df['country_region']==i]\n",
    "            temp=temp.loc[temp['sub_region_1'].isnull()]\n",
    "            temp=temp.loc[temp['sub_region_2'].isnull()]\n",
    "            temp=temp.loc[temp['metro_area'].isnull()]\n",
    "            temp=temp.loc[temp['iso_3166_2_code'].isnull()]\n",
    "            temp=temp.loc[temp['census_fips_code'].isnull()]\n",
    "            temp=temp[['date',varaible]].set_index(\"date\") \n",
    "            temp.rename(columns={varaible:i}, inplace = True)\n",
    " \n",
    "        #retail_org=retail_org.merge(retail_org,temp,left_index=True, right_index=True)   \n",
    "            new_df=new_df.join(temp)\n",
    "    return new_df"
   ]
  },
  {
   "cell_type": "code",
   "execution_count": 7,
   "id": "91242ac3-12c2-45a3-8d17-c5eee2651177",
   "metadata": {},
   "outputs": [],
   "source": [
    "dataframes={'retail':'retail_and_recreation_percent_change_from_baseline','grocery':'grocery_and_pharmacy_percent_change_from_baseline','parks':'parks_percent_change_from_baseline','transit':'transit_stations_percent_change_from_baseline','workpalces':'workplaces_percent_change_from_baseline','residental':'residential_percent_change_from_baseline'}\n",
    "grocery_org = pd.DataFrame()\n",
    "grocery_org=isolate_variables(grocery,'grocery', dataframes)"
   ]
  },
  {
   "cell_type": "code",
   "execution_count": 8,
   "id": "25e4c461-53fe-4bed-865e-507524bc6842",
   "metadata": {},
   "outputs": [],
   "source": [
    "grocery_org=isolate_variables(grocery,'grocery', dataframes)\n",
    "parks_org=isolate_variables(parks,'parks', dataframes)\n",
    "transit_org=isolate_variables(transit,'transit', dataframes)\n",
    "workpalces_org=isolate_variables(workpalces,'workpalces', dataframes)\n",
    "residental_org=isolate_variables(residental,'residental', dataframes)"
   ]
  },
  {
   "cell_type": "code",
   "execution_count": 9,
   "id": "cf65839b-d917-49d7-95a1-1d7955885fbc",
   "metadata": {},
   "outputs": [],
   "source": [
    "retail_org.to_excel('retail_org.xlsx', index=True)\n",
    "grocery_org.to_excel('grocery_org.xlsx', index=True)\n",
    "parks_org.to_excel('parks_org.xlsx', index=True)\n",
    "transit_org.to_excel('transit_org.xlsx', index=True)\n",
    "workpalces_org.to_excel('workpalces_org.xlsx', index=True)\n",
    "residental_org.to_excel('residental_org.xlsx', index=True)\n"
   ]
  },
  {
   "cell_type": "code",
   "execution_count": null,
   "id": "b26e16bb-2b87-4ab6-8f83-81d6367aefc9",
   "metadata": {},
   "outputs": [],
   "source": []
  }
 ],
 "metadata": {
  "kernelspec": {
   "display_name": "Python 3 (ipykernel)",
   "language": "python",
   "name": "python3"
  },
  "language_info": {
   "codemirror_mode": {
    "name": "ipython",
    "version": 3
   },
   "file_extension": ".py",
   "mimetype": "text/x-python",
   "name": "python",
   "nbconvert_exporter": "python",
   "pygments_lexer": "ipython3",
   "version": "3.9.7"
  }
 },
 "nbformat": 4,
 "nbformat_minor": 5
}
